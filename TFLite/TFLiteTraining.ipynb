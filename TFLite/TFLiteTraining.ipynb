{
 "cells": [
  {
   "cell_type": "markdown",
   "id": "ea508673-9da9-4418-9cf0-c37165417d94",
   "metadata": {},
   "source": [
    "# Install requirements\n",
    "This code has been tested using Python 3.8 and TF 2.13 with GPU support. \n",
    "\n",
    "As of 9/1/2023 there are issues installing `tflite-model-maker` in Google Colab."
   ]
  },
  {
   "cell_type": "code",
   "execution_count": null,
   "id": "bd771869-7d9a-46c9-964e-e41283706e9c",
   "metadata": {},
   "outputs": [],
   "source": [
    "!pip install --upgrade pip\n",
    "!pip install tensorflow==2.13.*"
   ]
  },
  {
   "cell_type": "code",
   "execution_count": null,
   "id": "eabfd046-bda6-40d7-940c-d85293e1ac2a",
   "metadata": {},
   "outputs": [],
   "source": [
    "!pip install -q tflite-model-maker\n",
    "!pip install -q tflite-support"
   ]
  },
  {
   "cell_type": "code",
   "execution_count": null,
   "id": "8ca649b3-59a1-43ec-b7e9-5998cfd62ee6",
   "metadata": {},
   "outputs": [],
   "source": [
    "!pip install pycocotools"
   ]
  },
  {
   "cell_type": "markdown",
   "id": "19dded7a-05b5-4a32-a5f1-89e3f577374d",
   "metadata": {},
   "source": [
    "# Import required libraries"
   ]
  },
  {
   "cell_type": "code",
   "execution_count": null,
   "id": "158bd630-6fc9-48c7-8474-ee22d3f5f4d9",
   "metadata": {},
   "outputs": [],
   "source": [
    "import numpy as np\n",
    "import os\n",
    "\n",
    "from tflite_model_maker.config import ExportFormat, QuantizationConfig\n",
    "from tflite_model_maker import model_spec\n",
    "from tflite_model_maker import object_detector\n",
    "\n",
    "from tflite_support import metadata\n",
    "\n",
    "import tensorflow as tf\n",
    "assert tf.__version__.startswith('2')\n",
    "\n",
    "tf.get_logger().setLevel('ERROR')\n",
    "from absl import logging\n",
    "logging.set_verbosity(logging.ERROR)"
   ]
  },
  {
   "cell_type": "markdown",
   "id": "79574350-705c-4a33-b8a5-a81fc0cce5ca",
   "metadata": {},
   "source": [
    "# Train the OD model"
   ]
  },
  {
   "cell_type": "markdown",
   "id": "fdd6a2c6-6727-406a-ad79-8c7fb71d3afe",
   "metadata": {},
   "source": [
    "## 1. Preprocess and load the image dataset\n",
    "The images used to train the model are PNG, by default, with RGBA channels. However, DataLoader is expecting a RGB JPEG, so we convert the files to RGB."
   ]
  },
  {
   "cell_type": "code",
   "execution_count": null,
   "id": "5756f02b-fa5e-4c13-b6c5-391b022f47fa",
   "metadata": {},
   "outputs": [],
   "source": [
    "TRAIN_IMG_PATH = os.path.join('workspace','images','train')\n",
    "TEST_IMG_PATH = os.path.join('workspace','images','test')"
   ]
  },
  {
   "cell_type": "code",
   "execution_count": null,
   "id": "3dd91d71-2806-4127-b2ee-0939dbe12aaa",
   "metadata": {},
   "outputs": [],
   "source": [
    "import glob\n",
    "from PIL import Image\n",
    "files = glob.glob(\"{}/*\".format(TRAIN_IMG_PATH))\n",
    "for file in files:\n",
    "    if \".jpeg\" in file:\n",
    "        image = Image.open(file)\n",
    "        if image.format not in [\"JPG\",\"JPEG\"]:\n",
    "            print(file)\n",
    "            image.convert('RGB').save(file,\"JPEG\")\n",
    "            \n",
    "files = glob.glob(\"{}/*\".format(TEST_IMG_PATH))\n",
    "for file in files:\n",
    "    if \".jpeg\" in file:\n",
    "        image = Image.open(file)\n",
    "        if image.format not in [\"JPG\",\"JPEG\"]:\n",
    "            print(file)\n",
    "            image.convert('RGB').save(file,\"JPEG\")"
   ]
  },
  {
   "cell_type": "markdown",
   "id": "63ce7a85-0985-49a3-be89-d488b382d39c",
   "metadata": {},
   "source": [
    "We create the TF Records for the training and testing datasets using our label map"
   ]
  },
  {
   "cell_type": "code",
   "execution_count": null,
   "id": "4896d8a2-4ded-464a-94c3-f9a0e1e71941",
   "metadata": {},
   "outputs": [],
   "source": [
    "train_data = object_detector.DataLoader.from_pascal_voc(\n",
    "    TRAIN_IMG_PATH,\n",
    "    TRAIN_IMG_PATH,\n",
    "    ['ACCOUNT','PASSWORD']\n",
    ")"
   ]
  },
  {
   "cell_type": "code",
   "execution_count": null,
   "id": "cc9a3fc6-fd23-4af3-8221-c6b76d4a94a2",
   "metadata": {},
   "outputs": [],
   "source": [
    "test_data = object_detector.DataLoader.from_pascal_voc(\n",
    "    TEST_IMG_PATH,\n",
    "    TEST_IMG_PATH,\n",
    "    ['ACCOUNT','PASSWORD']\n",
    ")"
   ]
  },
  {
   "cell_type": "markdown",
   "id": "7d963c25-3a24-4b9f-b431-08d429ed51b1",
   "metadata": {},
   "source": [
    "## 3. Select model architecture"
   ]
  },
  {
   "cell_type": "code",
   "execution_count": null,
   "id": "15d3d7ff-a46c-4953-b111-8ce9a146a466",
   "metadata": {},
   "outputs": [],
   "source": [
    "spec = model_spec.get('efficientdet_lite0')"
   ]
  },
  {
   "cell_type": "markdown",
   "id": "bffb9d41-618c-4923-a0a3-68dd9309637d",
   "metadata": {},
   "source": [
    "## Train the model"
   ]
  },
  {
   "cell_type": "code",
   "execution_count": null,
   "id": "8f1c058b-8be4-4fac-8060-261689a44265",
   "metadata": {},
   "outputs": [],
   "source": [
    "model = object_detector.create(\n",
    "    train_data,\n",
    "    model_spec = spec,\n",
    "    batch_size = 4,\n",
    "    train_whole_model = True,\n",
    "    epochs = 100,\n",
    "    validation_data = test_data\n",
    ")"
   ]
  },
  {
   "cell_type": "code",
   "execution_count": null,
   "id": "505f6186-3784-480a-a2fc-834a68b7b2f2",
   "metadata": {},
   "outputs": [],
   "source": [
    "model.evaluate(test_data)"
   ]
  },
  {
   "cell_type": "code",
   "execution_count": null,
   "id": "d2cc2a18-4bc8-412e-af6c-a910b06524d8",
   "metadata": {},
   "outputs": [],
   "source": []
  }
 ],
 "metadata": {
  "kernelspec": {
   "display_name": "tflite",
   "language": "python",
   "name": "tflite"
  },
  "language_info": {
   "codemirror_mode": {
    "name": "ipython",
    "version": 3
   },
   "file_extension": ".py",
   "mimetype": "text/x-python",
   "name": "python",
   "nbconvert_exporter": "python",
   "pygments_lexer": "ipython3",
   "version": "3.8.10"
  }
 },
 "nbformat": 4,
 "nbformat_minor": 5
}
