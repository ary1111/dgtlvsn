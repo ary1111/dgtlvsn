{
 "cells": [
  {
   "cell_type": "markdown",
   "id": "52a3cb1b-5715-48f9-999e-e933bfaff5eb",
   "metadata": {},
   "source": [
    "# Image Detector\n",
    "\n",
    "Instructions: Set the IMG_FOLDER, IMG_FILE, and CHECKPOINT to perform object detection on a specific image from a checkpoint of the model"
   ]
  },
  {
   "cell_type": "code",
   "execution_count": null,
   "id": "eb5a32f0-ea6a-48ba-b546-9b8f9643bfb5",
   "metadata": {},
   "outputs": [],
   "source": [
    "IMG_FOLDER = 'test'\n",
    "IMG_FILE = 'screenshot_02a9.png'\n",
    "CHECKPOINT = 'ckpt-3'\n",
    "CUSTOM_MODEL_NAME = 'dgtlvsn_ssd_mobnet_640_v2'\n",
    "BLUR = True"
   ]
  },
  {
   "cell_type": "code",
   "execution_count": null,
   "id": "55f0f614-78ce-487c-bca6-dca3551a5395",
   "metadata": {},
   "outputs": [],
   "source": [
    "import os\n",
    "import tensorflow as tf\n",
    "from object_detection.utils import label_map_util\n",
    "from object_detection.utils import visualization_utils as viz_utils\n",
    "from object_detection.builders import model_builder\n",
    "from object_detection.utils import config_util\n",
    "import cv2 \n",
    "import numpy as np\n",
    "from matplotlib import pyplot as plt\n",
    "%matplotlib inline"
   ]
  },
  {
   "cell_type": "code",
   "execution_count": null,
   "id": "044649da-3e43-497a-8b98-a15de8024cdb",
   "metadata": {},
   "outputs": [],
   "source": [
    "LABEL_MAP_NAME = 'label_map.pbtxt'\n",
    "paths = {\n",
    "    'CHECKPOINT_PATH': os.path.join('Tensorflow', 'workspace','models',CUSTOM_MODEL_NAME),\n",
    "    'ANNOTATION_PATH': os.path.join('Tensorflow', 'workspace','annotations'),\n",
    "    'IMAGES_PATH': os.path.join('Tensorflow', 'workspace','images'),\n",
    "}\n",
    "\n",
    "files = {\n",
    "    'PIPELINE_CONFIG':os.path.join('Tensorflow', 'workspace','models', CUSTOM_MODEL_NAME, 'pipeline.config'),\n",
    "    'LABELMAP': os.path.join(paths['ANNOTATION_PATH'], LABEL_MAP_NAME)\n",
    "}"
   ]
  },
  {
   "cell_type": "code",
   "execution_count": null,
   "id": "e1793653-9d44-4efa-a261-4e1bd1958c54",
   "metadata": {},
   "outputs": [],
   "source": [
    "# Load pipeline config and build a detection model\n",
    "configs = config_util.get_configs_from_pipeline_file(files['PIPELINE_CONFIG'])\n",
    "detection_model = model_builder.build(model_config=configs['model'], is_training=False)\n",
    "\n",
    "# Restore checkpoint\n",
    "ckpt = tf.compat.v2.train.Checkpoint(model=detection_model)\n",
    "ckpt.restore(os.path.join(paths['CHECKPOINT_PATH'], CHECKPOINT)).expect_partial()\n",
    "\n",
    "@tf.function\n",
    "def detect_fn(image):\n",
    "    image, shapes = detection_model.preprocess(image)\n",
    "    prediction_dict = detection_model.predict(image, shapes)\n",
    "    detections = detection_model.postprocess(prediction_dict, shapes)\n",
    "    return detections"
   ]
  },
  {
   "cell_type": "code",
   "execution_count": null,
   "id": "397a1d90-2486-4635-86b3-ffd67b934c78",
   "metadata": {},
   "outputs": [],
   "source": [
    "category_index = label_map_util.create_category_index_from_labelmap(files['LABELMAP'])"
   ]
  },
  {
   "cell_type": "code",
   "execution_count": null,
   "id": "5b6ce2ab-4428-4533-83dc-22e0de4dd89c",
   "metadata": {},
   "outputs": [],
   "source": [
    "IMAGE_PATH = os.path.join(paths['IMAGES_PATH'], IMG_FOLDER, IMG_FILE)"
   ]
  },
  {
   "cell_type": "code",
   "execution_count": null,
   "id": "3e109be4-aab9-459e-8094-ca983137204f",
   "metadata": {},
   "outputs": [],
   "source": [
    "img = cv2.imread(IMAGE_PATH)\n",
    "image_np = np.array(img)\n",
    "\n",
    "input_tensor = tf.convert_to_tensor(np.expand_dims(image_np, 0), dtype=tf.float32)\n",
    "detections = detect_fn(input_tensor)\n",
    "\n",
    "num_detections = int(detections.pop('num_detections'))\n",
    "detections = {key: value[0, :num_detections].numpy()\n",
    "              for key, value in detections.items()}\n",
    "detections['num_detections'] = num_detections\n",
    "\n",
    "# detection_classes should be ints.\n",
    "detections['detection_classes'] = detections['detection_classes'].astype(np.int64)\n",
    "\n",
    "label_id_offset = 1\n",
    "image_np_with_detections = image_np.copy()\n",
    "\n",
    "viz_utils.visualize_boxes_and_labels_on_image_array(\n",
    "            image_np_with_detections,\n",
    "            detections['detection_boxes'],\n",
    "            detections['detection_classes']+label_id_offset,\n",
    "            detections['detection_scores'],\n",
    "            category_index,\n",
    "            use_normalized_coordinates=True,\n",
    "            max_boxes_to_draw=10,\n",
    "            min_score_thresh=.8,\n",
    "            agnostic_mode=False)\n",
    "if BLUR:\n",
    "    for i, (box, score) in enumerate(zip(detections['detection_boxes'], detections['detection_scores'])):\n",
    "        if score > 0.8:\n",
    "            ymin, xmin, ymax, xmax = box\n",
    "            h, w, _ = image_np.shape\n",
    "            y_min = int(ymin * h)\n",
    "            y_max = int(ymax * h)\n",
    "            x_min = int(xmin * w)\n",
    "            x_max = int(xmax * w)\n",
    "        \n",
    "            # Extract the region of interest within the detection box\n",
    "            roi = image_np[y_min:y_max, x_min:x_max]\n",
    "        \n",
    "            # Apply Gaussian blur to the ROI\n",
    "            blurred_roi = cv2.GaussianBlur(roi, (45, 45), 0)  # You can adjust the kernel size\n",
    "        \n",
    "            # Replace the original ROI with the blurred ROI\n",
    "            image_np_with_detections[y_min:y_max, x_min:x_max] = blurred_roi\n",
    "\n",
    "\n",
    "plt.imshow(cv2.cvtColor(image_np_with_detections, cv2.COLOR_BGR2RGB))\n",
    "plt.show()"
   ]
  }
 ],
 "metadata": {
  "kernelspec": {
   "display_name": "dvenv",
   "language": "python",
   "name": "dvenv"
  },
  "language_info": {
   "codemirror_mode": {
    "name": "ipython",
    "version": 3
   },
   "file_extension": ".py",
   "mimetype": "text/x-python",
   "name": "python",
   "nbconvert_exporter": "python",
   "pygments_lexer": "ipython3",
   "version": "3.8.10"
  }
 },
 "nbformat": 4,
 "nbformat_minor": 5
}
