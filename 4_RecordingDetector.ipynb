{
 "cells": [
  {
   "cell_type": "code",
   "execution_count": null,
   "id": "d46c87f0-ed05-44fe-bd2d-2e9cbfc21142",
   "metadata": {},
   "outputs": [],
   "source": [
    "import os\n",
    "import tensorflow as tf\n",
    "from object_detection.utils import label_map_util\n",
    "from object_detection.utils import visualization_utils as viz_utils\n",
    "from object_detection.builders import model_builder\n",
    "from object_detection.utils import config_util\n",
    "import numpy as np\n",
    "import cv2\n",
    "from IPython.display import display, clear_output\n",
    "from matplotlib import pyplot as plt\n",
    "from matplotlib.animation import FuncAnimation\n",
    "%matplotlib inline\n",
    "plt.rcParams['figure.figsize'] = [14,21]"
   ]
  },
  {
   "cell_type": "code",
   "execution_count": null,
   "id": "e497389c-a3b6-49eb-9985-67a2ca56dd58",
   "metadata": {},
   "outputs": [],
   "source": [
    "# Create a folder \"videos\" within workspace to place videos\n",
    "VIDEO_FILENAME = 'DesktopRecording.mov'\n",
    "VIDEO_PATH = os.path.join('Tensorflow', 'workspace','videos', VIDEO_FILENAME)\n",
    "CHECKPOINT = 'ckpt-11'\n",
    "CUSTOM_MODEL_NAME = 'dgtlvsn_ssd_mobnet_640_v2'\n",
    "BLUR = True"
   ]
  },
  {
   "cell_type": "code",
   "execution_count": null,
   "id": "49abe572-0464-414a-b1a6-bac1ebcbaf70",
   "metadata": {},
   "outputs": [],
   "source": [
    "LABEL_MAP_NAME = 'label_map.pbtxt'\n",
    "paths = {\n",
    "    'CHECKPOINT_PATH': os.path.join('Tensorflow', 'workspace','models',CUSTOM_MODEL_NAME),\n",
    "    'ANNOTATION_PATH': os.path.join('Tensorflow', 'workspace','annotations'),\n",
    "    'IMAGES_PATH': os.path.join('Tensorflow', 'workspace','images'),\n",
    "}\n",
    "\n",
    "files = {\n",
    "    'PIPELINE_CONFIG':os.path.join('Tensorflow', 'workspace','models', CUSTOM_MODEL_NAME, 'pipeline.config'),\n",
    "    'LABELMAP': os.path.join(paths['ANNOTATION_PATH'], LABEL_MAP_NAME)\n",
    "}"
   ]
  },
  {
   "cell_type": "code",
   "execution_count": null,
   "id": "d4e265a6-ed22-4b5b-aefc-eaaeb1ea9d76",
   "metadata": {},
   "outputs": [],
   "source": [
    "# Load pipeline config and build a detection model\n",
    "configs = config_util.get_configs_from_pipeline_file(files['PIPELINE_CONFIG'])\n",
    "detection_model = model_builder.build(model_config=configs['model'], is_training=False)\n",
    "\n",
    "# Restore checkpoint\n",
    "ckpt = tf.compat.v2.train.Checkpoint(model=detection_model)\n",
    "ckpt.restore(os.path.join(paths['CHECKPOINT_PATH'], CHECKPOINT)).expect_partial()\n",
    "\n",
    "@tf.function\n",
    "def detect_fn(image):\n",
    "    image, shapes = detection_model.preprocess(image)\n",
    "    prediction_dict = detection_model.predict(image, shapes)\n",
    "    detections = detection_model.postprocess(prediction_dict, shapes)\n",
    "    return detections"
   ]
  },
  {
   "cell_type": "code",
   "execution_count": null,
   "id": "34eb114e-2d28-4793-ac9b-dbf3c866b1d7",
   "metadata": {},
   "outputs": [],
   "source": [
    "category_index = label_map_util.create_category_index_from_labelmap(files['LABELMAP'])"
   ]
  },
  {
   "cell_type": "code",
   "execution_count": null,
   "id": "1706cf4e-79e0-49a1-a69a-9338198554fb",
   "metadata": {},
   "outputs": [],
   "source": [
    "# Define the codec and create VideoWriter object\n",
    "fourcc = cv2.VideoWriter_fourcc(*'XVID')\n",
    "out = cv2.VideoWriter('output.avi', fourcc, 60.0, (1920,1080))"
   ]
  },
  {
   "cell_type": "code",
   "execution_count": null,
   "id": "a6ccf7f4-3f88-487c-8d9d-1389ceb994b7",
   "metadata": {},
   "outputs": [],
   "source": [
    "cap = cv2.VideoCapture(VIDEO_PATH)\n",
    "# Create a blank plot to be updated\n",
    "fig, ax = plt.subplots()\n",
    "img = ax.imshow(np.zeros((1080, 1920, 3), dtype=np.uint8))  # Adjust dimensions based on video\n",
    "\n",
    "while(cap.isOpened()):\n",
    "    ret, frame = cap.read()\n",
    "    if ret:\n",
    "        image_np = np.array(frame)\n",
    "        \n",
    "        input_tensor = tf.convert_to_tensor(np.expand_dims(image_np, 0), dtype=tf.float32)\n",
    "        detections = detect_fn(input_tensor)\n",
    "\n",
    "        num_detections = int(detections.pop('num_detections'))\n",
    "        detections = {key: value[0, :num_detections].numpy()\n",
    "                      for key, value in detections.items()}\n",
    "        detections['num_detections'] = num_detections\n",
    "\n",
    "        # detection_classes should be ints.\n",
    "        detections['detection_classes'] = detections['detection_classes'].astype(np.int64)\n",
    "\n",
    "        label_id_offset = 1\n",
    "        image_np_with_detections = image_np.copy()\n",
    "\n",
    "        viz_utils.visualize_boxes_and_labels_on_image_array(\n",
    "            image_np_with_detections,\n",
    "            detections['detection_boxes'],\n",
    "            detections['detection_classes']+label_id_offset,\n",
    "            detections['detection_scores'],\n",
    "            category_index,\n",
    "            use_normalized_coordinates=True,\n",
    "            max_boxes_to_draw=10,\n",
    "            min_score_thresh=.8,\n",
    "            agnostic_mode=False)\n",
    "\n",
    "        if BLUR:\n",
    "            for i, (box, score) in enumerate(zip(detections['detection_boxes'], detections['detection_scores'])):\n",
    "                if score > 0.8:\n",
    "                    ymin, xmin, ymax, xmax = box\n",
    "                    h, w, _ = image_np.shape\n",
    "                    y_min = int(ymin * h)\n",
    "                    y_max = int(ymax * h)\n",
    "                    x_min = int(xmin * w)\n",
    "                    x_max = int(xmax * w)\n",
    "        \n",
    "                    # Extract the region of interest within the detection box\n",
    "                    roi = image_np[y_min:y_max, x_min:x_max]\n",
    "        \n",
    "                    # Apply Gaussian blur to the ROI\n",
    "                    blurred_roi = cv2.GaussianBlur(roi, (45, 45), 0)  # You can adjust the kernel size\n",
    "        \n",
    "                    # Replace the original ROI with the blurred ROI\n",
    "                    image_np_with_detections[y_min:y_max, x_min:x_max] = blurred_roi\n",
    "\n",
    "        img.set_data(cv2.cvtColor(image_np_with_detections, cv2.COLOR_BGR2RGB))\n",
    "        out.write(cv2.cvtColor(image_np_with_detections, cv2.COLOR_BGR2RGB))\n",
    "        \n",
    "        display(fig)\n",
    "        clear_output(wait=True)\n",
    "\n",
    "    else:\n",
    "        break\n",
    "cap.release()\n",
    "out.release()"
   ]
  },
  {
   "cell_type": "code",
   "execution_count": null,
   "id": "c9db12d5-b851-4a70-a053-f557f14e8ce8",
   "metadata": {},
   "outputs": [],
   "source": []
  }
 ],
 "metadata": {
  "kernelspec": {
   "display_name": "dvenv",
   "language": "python",
   "name": "dvenv"
  },
  "language_info": {
   "codemirror_mode": {
    "name": "ipython",
    "version": 3
   },
   "file_extension": ".py",
   "mimetype": "text/x-python",
   "name": "python",
   "nbconvert_exporter": "python",
   "pygments_lexer": "ipython3",
   "version": "3.8.10"
  }
 },
 "nbformat": 4,
 "nbformat_minor": 5
}
